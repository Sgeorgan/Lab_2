{
 "cells": [
  {
   "cell_type": "markdown",
   "id": "2a9a80a7-92a9-49c2-8925-10f9fc41b117",
   "metadata": {
    "id": "16bceceb",
    "tags": []
   },
   "source": [
    "# Exercise 2 - Lists and indices\n",
    "The exercise for this week is meant to help you better understand lists in Python. You will also get to practice the Markdown syntax.\n",
    "\n",
    "Exercise 2 consists of 3 problems. For each problem you need to modify the notebook by adding your own solutions.\n",
    "\n",
    "## Please note\n",
    "\n",
    "- The Python code cells where you should make changes will contain text that reads. You can edit these cells as you like as long as the answers are correct.\n",
    "\n",
    "  ```Python\n",
    "    YOUR CODE HERE\n",
    "  ```\n",
    "\n",
    "- Some of the code cells contain tests. If these tests fail (you see an error message), you know there is still something wrong with your code.\n",
    "\n",
    "\n"
   ]
  },
  {
   "cell_type": "markdown",
   "id": "293b9c2a",
   "metadata": {
    "id": "293b9c2a"
   },
   "source": [
    "## Assignment 1 - Making and changing lists\n",
    "\n",
    "Your first task for this week is to create a list of old and popular European railway stations and the years in which they began operating.\n",
    "You will then add some more stations and operation years to your lists, and finally sort the lists such that the newest station is first in the list of operation years.\n",
    "You will find the list of stations and the years in which they began operating below.\n",
    "\n",
    "| station name        | First year of operation |\n",
    "| ----------------------- | :---------------------: |\n",
    "| Gare d'Osay             | 1900                    |\n",
    "| Madrid Atocha           | 1851                    |\n",
    "| Basil                   | 1907                    |\n",
    "| Roma Termini            | 1874                    |\n",
    "| King's Cross            | 1851                    |\n",
    "\n",
    "### Grading for Assignment 1\n",
    "\n",
    "Your score for this problem will be based on\n",
    "\n",
    "- Creating two lists for the train station names and years in which they began operating\n",
    "- Adding the second set of stations and operation years to your lists\n",
    "- Sorting the lists as directed\n",
    "- Listing the changes you needed to make to get the code working in plain English by modifying the existing text or adding a Markdown/Text cell above each change"
   ]
  },
  {
   "cell_type": "markdown",
   "id": "ae91af14",
   "metadata": {
    "id": "ae91af14"
   },
   "source": [
    "### Part 1 - Creating the lists\n",
    "\n",
    "In the cell below you should create two lists:\n",
    "\n",
    "- `station_names` should contain the train station names in the order they are given in the table above\n",
    "- `station_start_years` should contain the first years of operation of the stations, again in the order given above"
   ]
  },
  {
   "cell_type": "code",
   "execution_count": null,
   "id": "c01f50a3",
   "metadata": {
    "id": "c01f50a3",
    "outputId": "ad030408-21ff-4d45-c09c-307ab4af05f3"
   },
   "outputs": [],
   "source": [
    "# YOUR CODE HERE\n",
    "# Create the lists below\n",
    "station_names = None\n",
    "station_start_years = None\n",
    "\n"
   ]
  },
  {
   "cell_type": "markdown",
   "id": "e5cbf092",
   "metadata": {
    "id": "e5cbf092"
   },
   "source": [
    "Let's now check the lists contain the expected values."
   ]
  },
  {
   "cell_type": "code",
   "execution_count": null,
   "id": "712d5bcd",
   "metadata": {
    "id": "712d5bcd",
    "outputId": "4895159f-67b7-4c2c-c31f-d2c3876acc14"
   },
   "outputs": [],
   "source": [
    " This is a test cell that checks that the list lengths are correct\n",
    "# Running this cell should not produce any errors\n",
    "assert len(station_names) == 5, 'The station_names list should have 5 items.'\n",
    "assert len(station_start_years) == 5, 'The station_start_years list should have 5 items.'"
   ]
  },
  {
   "cell_type": "code",
   "execution_count": null,
   "id": "d62c26f2",
   "metadata": {
    "id": "d62c26f2",
    "outputId": "ccb74977-57b8-41a7-cd47-bf81a5e4063d"
   },
   "outputs": [],
   "source": [
    "# This is a test cell that checks that the first item in the lists is correct\n",
    "# Running this cell should not produce any errors\n",
    "assert station_names[0] == 'Gare d Osay', 'The first item in the station_names list should be \"Gare d Osay\"'\n",
    "assert station_start_years[0] == 1900, 'The first item in the station_start_years list should be 1900'"
   ]
  },
  {
   "cell_type": "markdown",
   "id": "8e108941",
   "metadata": {
    "id": "8e108941"
   },
   "source": [
    "### Part 2 - Modifying the lists\n",
    "\n",
    "Let's now add a few more stations to our lists.\n",
    "The stations to add are shown in the table below.\n",
    "\n",
    "| FMI station name | First year of operation |\n",
    "| ---------------- | :---------------------: |\n",
    "| Berlin Hauptbahf | 1871                    |\n",
    "| Lille Flanders   | 1892                    |\n",
    "| Rostock          | 1886                   |\n",
    "\n",
    "In the cell below you should add the stations and starting years to your existing `station_names` and `station_start_years` lists in the order they are listed above."
   ]
  },
  {
   "cell_type": "code",
   "execution_count": null,
   "id": "3aee173c",
   "metadata": {
    "id": "3aee173c",
    "outputId": "09cf3e5b-0d7c-4fe0-94ab-45f840fa8909"
   },
   "outputs": [],
   "source": [
    "# Below, add the stations from the second table to the lists\n",
    "\n",
    "# YOUR CODE HERE\n"
   ]
  },
  {
   "cell_type": "markdown",
   "id": "22478d75",
   "metadata": {
    "id": "22478d75"
   },
   "source": [
    "And we can now check to see whether the modified lists contain the expected values."
   ]
  },
  {
   "cell_type": "code",
   "execution_count": null,
   "id": "a0e3975b",
   "metadata": {
    "id": "a0e3975b",
    "outputId": "42e694f6-dc89-48e3-ebd7-c31764fc8543"
   },
   "outputs": [],
   "source": [
    "# This is a test cell that checks that the list lengths are correct\n",
    "# Running this cell should not produce any errors\n",
    "assert len(station_names) == 8, 'The station_names list should have 8 items.'\n",
    "assert len(station_start_years) == 8, 'The station_start_years list should have 8 items.'"
   ]
  },
  {
   "cell_type": "code",
   "execution_count": null,
   "id": "a5ac290b",
   "metadata": {
    "id": "a5ac290b",
    "outputId": "dc05df58-8f71-49cf-b797-6aab98834348"
   },
   "outputs": [],
   "source": [
    "# This is a test cell that checks that the last item in the lists is correct\n",
    "# Running this cell should not produce any errors\n",
    "assert station_names[-1] == 'Rostock', 'The last item in the station_names list should be \"Rostock\"'\n",
    "assert station_start_years[-1] == 1886, 'The last item in the station_start_years list should be 1886'"
   ]
  },
  {
   "cell_type": "markdown",
   "id": "30f57e57",
   "metadata": {
    "id": "30f57e57"
   },
   "source": [
    "### Part 3 - Sorting the lists\n",
    "\n",
    "Finally, we can take our lists and sort them. The goal here is to produce two sorted lists:\n",
    "\n",
    "- The `station_names` list should be sorted so the stations are in alphabetical order\n",
    "- The `station_start_years` list should be sorted so that the most recent station starting year is first in the list"
   ]
  },
  {
   "cell_type": "code",
   "execution_count": null,
   "id": "748126fb",
   "metadata": {
    "id": "748126fb"
   },
   "outputs": [],
   "source": [
    "# Below, sort the lists as directed\n",
    "\n",
    "# YOUR CODE HERE\n"
   ]
  },
  {
   "cell_type": "markdown",
   "id": "f4bc8242",
   "metadata": {
    "id": "f4bc8242"
   },
   "source": [
    "Let's now check that the first value in each sorted list is correct."
   ]
  },
  {
   "cell_type": "code",
   "execution_count": null,
   "id": "bc1e0189",
   "metadata": {
    "id": "bc1e0189"
   },
   "outputs": [],
   "source": [
    "# This is a test cell that checks that the last item in the lists is correct\n",
    "# Running this cell should not produce any errors\n",
    "assert station_names[0] == 'Basil', 'The first item in the station_names list should be \"Basil\"'\n",
    "assert station_start_years[0] == 1851, 'The first item in the station_start_years list should be 1851'"
   ]
  },
  {
   "cell_type": "markdown",
   "id": "9093d86e",
   "metadata": {
    "id": "9093d86e"
   },
   "source": [
    "### Part 4 - Understanding the code\n",
    "\n",
    "Looking at the lists used in Assignment 1, what might be a problem with how we have sorted them?\n",
    "Please answer briefly in the cell below."
   ]
  },
  {
   "cell_type": "markdown",
   "id": "6759de29",
   "metadata": {
    "id": "6759de29"
   },
   "source": [
    "YOUR ANSWER HERE"
   ]
  },
  {
   "cell_type": "markdown",
   "id": "1c36c059",
   "metadata": {
    "id": "1c36c059"
   },
   "source": [
    "## Assignment 2 - Accessing monthly average temperatures\n",
    "\n",
    "The table below presents average precipitation (mm) in Stockholm for 2022.\n",
    "\n",
    "| Month     | Precipitation [mm] |\n",
    "| --------- | :--------------: |\n",
    "| January   | 30             |\n",
    "| February  | 30             |\n",
    "| March     | 30             |\n",
    "| April     | 45             |\n",
    "| May       | 35             |\n",
    "| June      | 60             |\n",
    "| July      | 50             |\n",
    "| August    | 65             |\n",
    "| September | 65             |\n",
    "| October   | 40             |\n",
    "| November  | 45             |\n",
    "| December  | 35             |\n",
    "\n",
    "In the code cells below, write some Python code that allows users to select a month and have the monthly average precipitation printed to the screen.\n",
    "For example, your code should display the following for the month of February:\n",
    "\n",
    "```\n",
    "The average precipitation in Stockholm in February is 30 mm\n",
    "```\n",
    "\n",
    "### Grading for Assignment 2\n",
    "\n",
    "Your score for this problem will be based on\n",
    "\n",
    "- Having your notebook display the monthly average precipitation in a selected month, set by defining the variable `selected_month_index`. **NOTE**: We expect you to use the index value to select the month, not the name of the month (e.g., \"May\").\n",
    "- Having it work for all 12 months in the year.\n",
    "- Describing how your code works in a few sentences of plain English in a Markdown/text cell above your code\n",
    "- Including inline comments in the Python cells to clearly explain how the code works between most or all lines of your code\n"
   ]
  },
  {
   "cell_type": "code",
   "execution_count": null,
   "id": "1e28d88c",
   "metadata": {
    "id": "1e28d88c"
   },
   "outputs": [],
   "source": [
    "# YOUR CODE HERE\n",
    "\n",
    "# Here is the variable that you should use to set the selected month\n",
    "selected_month_index = None\n",
    "\n",
    "# Here are also the names of the two lists you should use for this problem. Please do not change the variable names!\n",
    "months = None\n",
    "average_precip = None\n",
    "\n",
    "# Using the lists and their indices, generate the desired print statement\n",
    "print_statement = None\n",
    "\n"
   ]
  },
  {
   "cell_type": "code",
   "execution_count": null,
   "id": "0e63207d",
   "metadata": {
    "id": "0e63207d"
   },
   "outputs": [],
   "source": [
    "# This cell will help you check that the output of your print statement is correct\n",
    "print(print_statement)"
   ]
  },
  {
   "cell_type": "markdown",
   "id": "18862852",
   "metadata": {
    "id": "18862852"
   },
   "source": [
    "### Additional tests for Assignment 2\n",
    "\n",
    "Let's run some additional tests to see if things are working as they should! These tests may help you in solving this problem. Note, we also have some hidden tests that we will run for checking the exercises."
   ]
  },
  {
   "cell_type": "code",
   "execution_count": null,
   "id": "edea50f4",
   "metadata": {
    "id": "edea50f4"
   },
   "outputs": [],
   "source": [
    "# Check that the two lists have lengths of 12\n",
    "assert len(months) == 12, 'Wrong length!'\n",
    "assert len(average_precip) == 12, 'Wrong length!'"
   ]
  },
  {
   "cell_type": "code",
   "execution_count": null,
   "id": "ce28215c",
   "metadata": {
    "id": "ce28215c"
   },
   "outputs": [],
   "source": [
    "# Check that that the month and average_temp variables are lists\n",
    "assert isinstance(months, list), 'Variable months is not a list'\n",
    "assert isinstance(average_precip, list), 'Variable average_precip is not a list'"
   ]
  },
  {
   "cell_type": "code",
   "execution_count": null,
   "id": "0e064f56",
   "metadata": {
    "id": "0e064f56"
   },
   "outputs": [],
   "source": [
    "# Check that the print statement is correct;\n",
    "# Set selected_month_index to correspond with July before running this cell.\n",
    "# Note! Your code should work with any of the 12 months!\n",
    "assert print_statement == 'The mean precipitation in Stockholm in July is 50'"
   ]
  },
  {
   "cell_type": "markdown",
   "id": "5561c71a",
   "metadata": {
    "id": "5561c71a"
   },
   "source": [
    "### Questions about this week's lesson\n",
    "\n",
    "Please use Markdown to give your responses to the three questions below about this week's lesson.\n",
    "\n",
    "- What did you learn?\n",
    "- What was unclear?\n",
    "- What would you change about the lesson?\n",
    "    \n",
    "*Please use a Markdown list when answering these questions.*"
   ]
  },
  {
   "cell_type": "markdown",
   "id": "74a604eb",
   "metadata": {
    "id": "74a604eb"
   },
   "source": [
    "YOUR ANSWER HERE"
   ]
  },
  {
   "cell_type": "markdown",
   "id": "48be67e7",
   "metadata": {
    "id": "48be67e7"
   },
   "source": [
    "Save this file and download it if you are working on the cloud or simply save it if you are working in your local system. Submit it through Canvas!\n"
   ]
  },
  {
   "cell_type": "code",
   "execution_count": null,
   "id": "2397c5da",
   "metadata": {
    "id": "2397c5da"
   },
   "outputs": [],
   "source": []
  }
 ],
 "metadata": {
  "colab": {
   "provenance": []
  },
  "kernelspec": {
   "display_name": "Python 3 (ipykernel)",
   "language": "python",
   "name": "python3"
  },
  "language_info": {
   "codemirror_mode": {
    "name": "ipython",
    "version": 3
   },
   "file_extension": ".py",
   "mimetype": "text/x-python",
   "name": "python",
   "nbconvert_exporter": "python",
   "pygments_lexer": "ipython3",
   "version": "3.11.7"
  }
 },
 "nbformat": 4,
 "nbformat_minor": 5
}
